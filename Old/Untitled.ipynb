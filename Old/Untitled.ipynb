{
 "cells": [
  {
   "cell_type": "code",
   "execution_count": 1,
   "id": "34d46e6b",
   "metadata": {},
   "outputs": [],
   "source": [
    "import numpy as np\n",
    "import spectral\n",
    "import matplotlib.pyplot as plt\n",
    "import scipy\n",
    "from scipy.fft import fft, ifft, rfft, irfft"
   ]
  },
  {
   "cell_type": "code",
   "execution_count": 11,
   "id": "f64d1eed",
   "metadata": {},
   "outputs": [],
   "source": [
    "x_basis = spectral.Fourier(64)\n",
    "domain = spectral.Domain([x_basis])\n",
    "f = spectral.Field(domain)"
   ]
  },
  {
   "cell_type": "code",
   "execution_count": 12,
   "id": "fb8d0786",
   "metadata": {},
   "outputs": [
    {
     "data": {
      "text/plain": [
       "array([0., 0., 0., 0., 0., 0., 0., 0., 0., 0., 0., 0., 0., 0., 0., 0., 0.,\n",
       "       0., 0., 0., 0., 0., 0., 0., 0., 0., 0., 0., 0., 0., 0., 0., 0., 0.,\n",
       "       0., 0., 0., 0., 0., 0., 0., 0., 0., 0., 0., 0., 0., 0., 0., 0., 0.,\n",
       "       0., 0., 0., 0., 0., 0., 0., 0., 0., 0., 0., 0., 0.])"
      ]
     },
     "execution_count": 12,
     "metadata": {},
     "output_type": "execute_result"
    }
   ],
   "source": [
    "f.data"
   ]
  },
  {
   "cell_type": "code",
   "execution_count": 13,
   "id": "7260bfd5",
   "metadata": {},
   "outputs": [],
   "source": [
    "f.require_grid_space()"
   ]
  },
  {
   "cell_type": "code",
   "execution_count": 9,
   "id": "b4fbd7f5",
   "metadata": {},
   "outputs": [],
   "source": []
  },
  {
   "cell_type": "code",
   "execution_count": 15,
   "id": "2bc730fe",
   "metadata": {},
   "outputs": [
    {
     "data": {
      "text/plain": [
       "array([0.        , 0.09817477, 0.19634954, 0.29452431, 0.39269908,\n",
       "       0.49087385, 0.58904862, 0.68722339, 0.78539816, 0.88357293,\n",
       "       0.9817477 , 1.07992247, 1.17809725, 1.27627202, 1.37444679,\n",
       "       1.47262156, 1.57079633, 1.6689711 , 1.76714587, 1.86532064,\n",
       "       1.96349541, 2.06167018, 2.15984495, 2.25801972, 2.35619449,\n",
       "       2.45436926, 2.55254403, 2.6507188 , 2.74889357, 2.84706834,\n",
       "       2.94524311, 3.04341788, 3.14159265, 3.23976742, 3.33794219,\n",
       "       3.43611696, 3.53429174, 3.63246651, 3.73064128, 3.82881605,\n",
       "       3.92699082, 4.02516559, 4.12334036, 4.22151513, 4.3196899 ,\n",
       "       4.41786467, 4.51603944, 4.61421421, 4.71238898, 4.81056375,\n",
       "       4.90873852, 5.00691329, 5.10508806, 5.20326283, 5.3014376 ,\n",
       "       5.39961237, 5.49778714, 5.59596191, 5.69413668, 5.79231146,\n",
       "       5.89048623, 5.988661  , 6.08683577, 6.18501054])"
      ]
     },
     "execution_count": 15,
     "metadata": {},
     "output_type": "execute_result"
    }
   ],
   "source": [
    "x = x_basis.grid()\n",
    "x"
   ]
  },
  {
   "cell_type": "code",
   "execution_count": 15,
   "id": "62d2bf79",
   "metadata": {},
   "outputs": [],
   "source": [
    "co = fft(f.data)\n",
    "cor = rfft(f.data)"
   ]
  },
  {
   "cell_type": "code",
   "execution_count": 28,
   "id": "b0f1e71a",
   "metadata": {},
   "outputs": [
    {
     "name": "stderr",
     "output_type": "stream",
     "text": [
      "/Library/Frameworks/Python.framework/Versions/3.9/lib/python3.9/site-packages/matplotlib/cbook/__init__.py:1298: ComplexWarning: Casting complex values to real discards the imaginary part\n",
      "  return np.asarray(x, float)\n"
     ]
    },
    {
     "data": {
      "text/plain": [
       "[<matplotlib.lines.Line2D at 0x7f99591ef370>]"
      ]
     },
     "execution_count": 28,
     "metadata": {},
     "output_type": "execute_result"
    },
    {
     "data": {
      "image/png": "[encoded data removed]",
      "text/plain": [
       "<Figure size 432x288 with 1 Axes>"
      ]
     },
     "metadata": {
      "needs_background": "light"
     },
     "output_type": "display_data"
    }
   ],
   "source": [
    "plt.figure()\n",
    "plt.plot(x, f.data)\n",
    "plt.plot(x,ifft(f.data))"
   ]
  },
  {
   "cell_type": "code",
   "execution_count": 26,
   "id": "ca04d63b",
   "metadata": {},
   "outputs": [
    {
     "data": {
      "text/plain": [
       "array([-2.48168861e-15-0.00000000e+00j,  3.20000000e+01-4.24173225e-15j,\n",
       "        6.00946916e-16+8.27898746e-16j, -1.16365947e-15-4.42426071e-16j,\n",
       "        1.67646608e-16-9.59866723e-16j,  4.50471352e-16-5.66635534e-16j,\n",
       "        8.55650711e-16-7.12512299e-17j,  3.51475041e-17+8.73521243e-16j,\n",
       "        1.51723760e-16+4.85652482e-16j,  1.25681227e-15+1.26607409e-16j,\n",
       "       -4.94163040e-16-2.54655771e-16j,  1.07469506e-15-2.98210497e-16j,\n",
       "        2.98504372e-16+8.81033116e-16j, -7.61786889e-16+4.89890026e-16j,\n",
       "        6.78802972e-16-1.45067026e-15j,  2.22044605e-16+4.66973965e-16j,\n",
       "        4.40687738e-17+1.83186799e-15j, -2.22044605e-16-4.66973965e-16j,\n",
       "       -4.86668936e-16-4.93355339e-16j, -1.07666935e-15-8.45126940e-16j,\n",
       "       -2.42884504e-16-8.03349837e-16j,  9.47547093e-16+8.73660801e-17j,\n",
       "       -3.79418532e-18-3.92054335e-16j,  1.13874661e-15+6.48883207e-16j,\n",
       "        2.69480695e-16+2.26200932e-15j, -2.43070639e-15+1.30425802e-15j,\n",
       "        1.32165233e-16-1.33465304e-15j,  1.08000018e-15-8.95199371e-17j,\n",
       "       -2.69035986e-16+1.35255321e-15j, -5.50597967e-16-9.26252176e-17j,\n",
       "       -3.03222232e-16-2.28967997e-16j,  0.00000000e+00+2.44929360e-16j,\n",
       "       -3.16753709e-16-0.00000000e+00j,  0.00000000e+00-2.44929360e-16j,\n",
       "       -3.03222232e-16+2.28967997e-16j, -5.50597967e-16+9.26252176e-17j,\n",
       "       -2.69035986e-16-1.35255321e-15j,  1.08000018e-15+8.95199371e-17j,\n",
       "        1.32165233e-16+1.33465304e-15j, -2.43070639e-15-1.30425802e-15j,\n",
       "        2.69480695e-16-2.26200932e-15j,  1.13874661e-15-6.48883207e-16j,\n",
       "       -3.79418532e-18+3.92054335e-16j,  9.47547093e-16-8.73660801e-17j,\n",
       "       -2.42884504e-16+8.03349837e-16j, -1.07666935e-15+8.45126940e-16j,\n",
       "       -4.86668936e-16+4.93355339e-16j, -2.22044605e-16+4.66973965e-16j,\n",
       "        4.40687738e-17-1.83186799e-15j,  2.22044605e-16-4.66973965e-16j,\n",
       "        6.78802972e-16+1.45067026e-15j, -7.61786889e-16-4.89890026e-16j,\n",
       "        2.98504372e-16-8.81033116e-16j,  1.07469506e-15+2.98210497e-16j,\n",
       "       -4.94163040e-16+2.54655771e-16j,  1.25681227e-15-1.26607409e-16j,\n",
       "        1.51723760e-16-4.85652482e-16j,  3.51475041e-17-8.73521243e-16j,\n",
       "        8.55650711e-16+7.12512299e-17j,  4.50471352e-16+5.66635534e-16j,\n",
       "        1.67646608e-16+9.59866723e-16j, -1.16365947e-15+4.42426071e-16j,\n",
       "        6.00946916e-16-8.27898746e-16j,  3.20000000e+01+4.24173225e-15j])"
      ]
     },
     "execution_count": 26,
     "metadata": {},
     "output_type": "execute_result"
    }
   ],
   "source": [
    "co"
   ]
  }
 ],
 "metadata": {
  "kernelspec": {
   "display_name": "Python 3 (ipykernel)",
   "language": "python",
   "name": "python3"
  },
  "language_info": {
   "codemirror_mode": {
    "name": "ipython",
    "version": 3
   },
   "file_extension": ".py",
   "mimetype": "text/x-python",
   "name": "python",
   "nbconvert_exporter": "python",
   "pygments_lexer": "ipython3",
   "version": "3.9.7"
  }
 },
 "nbformat": 4,
 "nbformat_minor": 5
}
